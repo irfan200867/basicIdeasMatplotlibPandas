{
  "nbformat": 4,
  "nbformat_minor": 0,
  "metadata": {
    "colab": {
      "provenance": [],
      "collapsed_sections": []
    },
    "kernelspec": {
      "name": "python3",
      "display_name": "Python 3"
    },
    "language_info": {
      "name": "python"
    }
  },
  "cells": [
    {
      "cell_type": "markdown",
      "source": [
        "*Kuliah TA 1 dan TA 2*, 23 September 2022\n",
        "\n",
        "oleh:\n",
        "\n",
        "*Muhamad Irfan Hakim*"
      ],
      "metadata": {
        "id": "8zlPrWIXWCic"
      }
    },
    {
      "cell_type": "code",
      "execution_count": 1,
      "metadata": {
        "id": "bTu5fuUf_BDp"
      },
      "outputs": [],
      "source": [
        "import matplotlib.pyplot as plt"
      ]
    },
    {
      "cell_type": "markdown",
      "source": [
        "# Plot using ***subplots*** concept"
      ],
      "metadata": {
        "id": "nQotPeA_c1Ev"
      }
    },
    {
      "cell_type": "markdown",
      "source": [
        "## Simple single subplot, using default setting\n",
        "\n"
      ],
      "metadata": {
        "id": "RNz1oSNdc6WI"
      }
    },
    {
      "cell_type": "code",
      "source": [
        "a = [3] ; b = [4]\n",
        "\n",
        "# SINGLE PLOT; 1 row & 1 column\n",
        "# REMEMBER TO TYPE fig, ax\n",
        "fig, ax = plt.subplots()\n",
        "ax.scatter(a, b)"
      ],
      "metadata": {
        "colab": {
          "base_uri": "https://localhost:8080/",
          "height": 282
        },
        "id": "UgOtibVYbBtM",
        "outputId": "6c198dd9-0aff-4f92-f5c1-3c30b36e7e92"
      },
      "execution_count": 2,
      "outputs": [
        {
          "output_type": "execute_result",
          "data": {
            "text/plain": [
              "<matplotlib.collections.PathCollection at 0x7f8c6e58aa50>"
            ]
          },
          "metadata": {},
          "execution_count": 2
        },
        {
          "output_type": "display_data",
          "data": {
            "text/plain": [
              "<Figure size 432x288 with 1 Axes>"
            ],
            "image/png": "[encoded data removed]"
          },
          "metadata": {
            "needs_background": "light"
          }
        }
      ]
    },
    {
      "cell_type": "markdown",
      "source": [
        "## Simple $n$-subplots, $n = 1$, explicit subplot size setting"
      ],
      "metadata": {
        "id": "NDIUyNzyYxqc"
      }
    },
    {
      "cell_type": "code",
      "source": [
        "u  = [1,2,3,4]\n",
        "s  = [2,3,4,5]"
      ],
      "metadata": {
        "id": "NIEFoFtkYwp_"
      },
      "execution_count": 3,
      "outputs": []
    },
    {
      "cell_type": "code",
      "source": [
        "fig, ax = plt.subplots(1, 1)          # EXPLICIT; 1 row & 1 column\n",
        "\n",
        "ax.set_xlabel('u')\n",
        "ax.set_ylabel('s', rotation='horizontal')\n",
        "ax.set_title('u vs s')\n",
        "ax.grid(True)                         # or False\n",
        "ax.set_xlim([0,7])\n",
        "ax.set_ylim([0,7])\n",
        "\n",
        "ax.plot(u, s, label = 'u vs s')\n",
        "\n",
        "ax.legend(loc = 'best')"
      ],
      "metadata": {
        "colab": {
          "base_uri": "https://localhost:8080/",
          "height": 312
        },
        "id": "GoOP9W5tY_fp",
        "outputId": "722e42b0-8bdc-4bf4-cd60-b0c491cac748"
      },
      "execution_count": 4,
      "outputs": [
        {
          "output_type": "execute_result",
          "data": {
            "text/plain": [
              "<matplotlib.legend.Legend at 0x7f8c67678250>"
            ]
          },
          "metadata": {},
          "execution_count": 4
        },
        {
          "output_type": "display_data",
          "data": {
            "text/plain": [
              "<Figure size 432x288 with 1 Axes>"
            ],
            "image/png": "[encoded data removed]"
          },
          "metadata": {
            "needs_background": "light"
          }
        }
      ]
    },
    {
      "cell_type": "markdown",
      "source": [
        "## Simple $n$-subplots, $n > 1$"
      ],
      "metadata": {
        "id": "kH4WAsByc_tb"
      }
    },
    {
      "cell_type": "code",
      "source": [
        "c = [3] ; d = [4]\n",
        "e = [4] ; f = [5]\n",
        "\n",
        "# TWO SUBPLOTS; 2 rows & 1 column\n",
        "# REMEMBER TO TYPE fig, axs\n",
        "fig, axs = plt.subplots(2, 1)\n",
        "\n",
        "axs[0].scatter(c, d)\n",
        "axs[1].scatter(e, f)"
      ],
      "metadata": {
        "colab": {
          "base_uri": "https://localhost:8080/",
          "height": 282
        },
        "id": "C0KvQ13ZbfKA",
        "outputId": "6d71501d-3244-47fd-dd47-8447caa3e002"
      },
      "execution_count": 5,
      "outputs": [
        {
          "output_type": "execute_result",
          "data": {
            "text/plain": [
              "<matplotlib.collections.PathCollection at 0x7f8c67141990>"
            ]
          },
          "metadata": {},
          "execution_count": 5
        },
        {
          "output_type": "display_data",
          "data": {
            "text/plain": [
              "<Figure size 432x288 with 2 Axes>"
            ],
            "image/png": "[encoded data removed]"
          },
          "metadata": {
            "needs_background": "light"
          }
        }
      ]
    },
    {
      "cell_type": "markdown",
      "source": [
        "# An example of subplots"
      ],
      "metadata": {
        "id": "NidtYJC0dnSF"
      }
    },
    {
      "cell_type": "code",
      "source": [
        "x  = [1,2,3,4]\n",
        "y  = [2,3,4,5]\n",
        "x1 = [2.1,3.2,4.3,5.4]\n",
        "y1 = [3.5,4.6,5.7,6.8]"
      ],
      "metadata": {
        "id": "_OVi_Uq__N1b"
      },
      "execution_count": 6,
      "outputs": []
    },
    {
      "cell_type": "code",
      "source": [
        "fig, axs = plt.subplots(1, 2)   # 1 row, 2 columns for 2 subplots\n",
        "\n",
        "# ---------- fig 1 (left) ------------------\n",
        "axs[0].set_xlabel('x')\n",
        "axs[0].set_ylabel('y', rotation='horizontal')\n",
        "axs[0].set_title('x vs y')\n",
        "axs[0].grid(True)                         # or False\n",
        "axs[0].set_xlim([0,7])\n",
        "axs[0].set_ylim([0,7])\n",
        "\n",
        "axs[0].plot(x, y, label = 'x vs y')\n",
        "\n",
        "axs[0].legend(loc = 'best')\n",
        "\n",
        "# ---------- fig 2 (right) ------------------\n",
        "axs[1].set_xlabel('x1')\n",
        "axs[1].set_ylabel('y1', rotation='horizontal')\n",
        "axs[1].set_title('x1 vs y1')\n",
        "axs[1].grid(False)                         # or True\n",
        "axs[1].set_xlim([0,7])\n",
        "axs[1].set_ylim([0,7])\n",
        "\n",
        "axs[1].plot(x1, y1, label = 'x1 vs y1')\n",
        "\n",
        "axs[1].legend(loc = 'best')"
      ],
      "metadata": {
        "colab": {
          "base_uri": "https://localhost:8080/",
          "height": 312
        },
        "id": "ZmY4dNde_W67",
        "outputId": "ed11d731-e465-4a16-c56f-c27bd66103ff"
      },
      "execution_count": 7,
      "outputs": [
        {
          "output_type": "execute_result",
          "data": {
            "text/plain": [
              "<matplotlib.legend.Legend at 0x7f8c67081190>"
            ]
          },
          "metadata": {},
          "execution_count": 7
        },
        {
          "output_type": "display_data",
          "data": {
            "text/plain": [
              "<Figure size 432x288 with 2 Axes>"
            ],
            "image/png": "[encoded data removed]"
          },
          "metadata": {
            "needs_background": "light"
          }
        }
      ]
    }
  ]
}